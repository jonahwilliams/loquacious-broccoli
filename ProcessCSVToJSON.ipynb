{
 "cells": [
  {
   "cell_type": "code",
   "execution_count": 5,
   "metadata": {
    "collapsed": true
   },
   "outputs": [],
   "source": [
    "import pandas as pd\n",
    "import numpy as np"
   ]
  },
  {
   "cell_type": "code",
   "execution_count": 2,
   "metadata": {
    "collapsed": true
   },
   "outputs": [],
   "source": [
    "df = pd.read_csv('/Users/jonahwilliams/Documents/SFPD.csv')"
   ]
  },
  {
   "cell_type": "code",
   "execution_count": 3,
   "metadata": {
    "collapsed": false
   },
   "outputs": [
    {
     "data": {
      "text/html": [
       "<div>\n",
       "<table border=\"1\" class=\"dataframe\">\n",
       "  <thead>\n",
       "    <tr style=\"text-align: right;\">\n",
       "      <th></th>\n",
       "      <th>Category</th>\n",
       "      <th>Descript</th>\n",
       "      <th>Date</th>\n",
       "      <th>Time</th>\n",
       "      <th>PdDistrict</th>\n",
       "      <th>Resolution</th>\n",
       "      <th>X</th>\n",
       "      <th>Y</th>\n",
       "    </tr>\n",
       "  </thead>\n",
       "  <tbody>\n",
       "    <tr>\n",
       "      <th>0</th>\n",
       "      <td>OTHER OFFENSES</td>\n",
       "      <td>TRAFFIC VIOLATION</td>\n",
       "      <td>9/21/15</td>\n",
       "      <td>23:36</td>\n",
       "      <td>NORTHERN</td>\n",
       "      <td>ARREST, BOOKED</td>\n",
       "      <td>-122.433407</td>\n",
       "      <td>37.778423</td>\n",
       "    </tr>\n",
       "    <tr>\n",
       "      <th>1</th>\n",
       "      <td>NON-CRIMINAL</td>\n",
       "      <td>LICENSE PLATE, RECOVERED</td>\n",
       "      <td>9/21/15</td>\n",
       "      <td>23:36</td>\n",
       "      <td>NORTHERN</td>\n",
       "      <td>ARREST, BOOKED</td>\n",
       "      <td>-122.433407</td>\n",
       "      <td>37.778423</td>\n",
       "    </tr>\n",
       "    <tr>\n",
       "      <th>2</th>\n",
       "      <td>LARCENY/THEFT</td>\n",
       "      <td>GRAND THEFT BICYCLE</td>\n",
       "      <td>9/21/15</td>\n",
       "      <td>23:20</td>\n",
       "      <td>NORTHERN</td>\n",
       "      <td>NONE</td>\n",
       "      <td>-122.432952</td>\n",
       "      <td>37.805052</td>\n",
       "    </tr>\n",
       "    <tr>\n",
       "      <th>3</th>\n",
       "      <td>PROSTITUTION</td>\n",
       "      <td>LOITERING FOR PURPOSE OF PROSTITUTION</td>\n",
       "      <td>9/21/15</td>\n",
       "      <td>23:20</td>\n",
       "      <td>TENDERLOIN</td>\n",
       "      <td>ARREST, BOOKED</td>\n",
       "      <td>-122.408202</td>\n",
       "      <td>37.786885</td>\n",
       "    </tr>\n",
       "    <tr>\n",
       "      <th>4</th>\n",
       "      <td>ASSAULT</td>\n",
       "      <td>INFLICT INJURY ON COHABITEE</td>\n",
       "      <td>9/21/15</td>\n",
       "      <td>23:03</td>\n",
       "      <td>MISSION</td>\n",
       "      <td>ARREST, BOOKED</td>\n",
       "      <td>-122.419729</td>\n",
       "      <td>37.748221</td>\n",
       "    </tr>\n",
       "  </tbody>\n",
       "</table>\n",
       "</div>"
      ],
      "text/plain": [
       "         Category                               Descript     Date   Time  \\\n",
       "0  OTHER OFFENSES                      TRAFFIC VIOLATION  9/21/15  23:36   \n",
       "1    NON-CRIMINAL               LICENSE PLATE, RECOVERED  9/21/15  23:36   \n",
       "2   LARCENY/THEFT                    GRAND THEFT BICYCLE  9/21/15  23:20   \n",
       "3    PROSTITUTION  LOITERING FOR PURPOSE OF PROSTITUTION  9/21/15  23:20   \n",
       "4         ASSAULT            INFLICT INJURY ON COHABITEE  9/21/15  23:03   \n",
       "\n",
       "   PdDistrict      Resolution           X          Y  \n",
       "0    NORTHERN  ARREST, BOOKED -122.433407  37.778423  \n",
       "1    NORTHERN  ARREST, BOOKED -122.433407  37.778423  \n",
       "2    NORTHERN            NONE -122.432952  37.805052  \n",
       "3  TENDERLOIN  ARREST, BOOKED -122.408202  37.786885  \n",
       "4     MISSION  ARREST, BOOKED -122.419729  37.748221  "
      ]
     },
     "execution_count": 3,
     "metadata": {},
     "output_type": "execute_result"
    }
   ],
   "source": [
    "df.head()"
   ]
  },
  {
   "cell_type": "code",
   "execution_count": 9,
   "metadata": {
    "collapsed": false
   },
   "outputs": [],
   "source": [
    "df['Category'] = df['Category'].map(lambda x: x.replace(',',' '))\n",
    "df['Resolution'] = df['Resolution'].map(lambda x: x.replace(',',' '))\n",
    "df['Descript'] = df['Descript'].map(lambda x: x.replace(',',' '))"
   ]
  },
  {
   "cell_type": "code",
   "execution_count": 14,
   "metadata": {
    "collapsed": false
   },
   "outputs": [],
   "source": [
    "df['UTC'] = pd.to_datetime(df['Date'] + ' ' + df['Time'])"
   ]
  },
  {
   "cell_type": "code",
   "execution_count": 16,
   "metadata": {
    "collapsed": false
   },
   "outputs": [],
   "source": [
    "df = df.drop(['Date', 'Time'], axis=1)"
   ]
  },
  {
   "cell_type": "code",
   "execution_count": 17,
   "metadata": {
    "collapsed": false
   },
   "outputs": [
    {
     "data": {
      "text/html": [
       "<div>\n",
       "<table border=\"1\" class=\"dataframe\">\n",
       "  <thead>\n",
       "    <tr style=\"text-align: right;\">\n",
       "      <th></th>\n",
       "      <th>Category</th>\n",
       "      <th>Descript</th>\n",
       "      <th>PdDistrict</th>\n",
       "      <th>Resolution</th>\n",
       "      <th>X</th>\n",
       "      <th>Y</th>\n",
       "      <th>UTC</th>\n",
       "    </tr>\n",
       "  </thead>\n",
       "  <tbody>\n",
       "    <tr>\n",
       "      <th>0</th>\n",
       "      <td>OTHER OFFENSES</td>\n",
       "      <td>TRAFFIC VIOLATION</td>\n",
       "      <td>NORTHERN</td>\n",
       "      <td>ARREST  BOOKED</td>\n",
       "      <td>-122.433407</td>\n",
       "      <td>37.778423</td>\n",
       "      <td>2015-09-21 23:36:00</td>\n",
       "    </tr>\n",
       "    <tr>\n",
       "      <th>1</th>\n",
       "      <td>NON-CRIMINAL</td>\n",
       "      <td>LICENSE PLATE  RECOVERED</td>\n",
       "      <td>NORTHERN</td>\n",
       "      <td>ARREST  BOOKED</td>\n",
       "      <td>-122.433407</td>\n",
       "      <td>37.778423</td>\n",
       "      <td>2015-09-21 23:36:00</td>\n",
       "    </tr>\n",
       "    <tr>\n",
       "      <th>2</th>\n",
       "      <td>LARCENY/THEFT</td>\n",
       "      <td>GRAND THEFT BICYCLE</td>\n",
       "      <td>NORTHERN</td>\n",
       "      <td>NONE</td>\n",
       "      <td>-122.432952</td>\n",
       "      <td>37.805052</td>\n",
       "      <td>2015-09-21 23:20:00</td>\n",
       "    </tr>\n",
       "    <tr>\n",
       "      <th>3</th>\n",
       "      <td>PROSTITUTION</td>\n",
       "      <td>LOITERING FOR PURPOSE OF PROSTITUTION</td>\n",
       "      <td>TENDERLOIN</td>\n",
       "      <td>ARREST  BOOKED</td>\n",
       "      <td>-122.408202</td>\n",
       "      <td>37.786885</td>\n",
       "      <td>2015-09-21 23:20:00</td>\n",
       "    </tr>\n",
       "    <tr>\n",
       "      <th>4</th>\n",
       "      <td>ASSAULT</td>\n",
       "      <td>INFLICT INJURY ON COHABITEE</td>\n",
       "      <td>MISSION</td>\n",
       "      <td>ARREST  BOOKED</td>\n",
       "      <td>-122.419729</td>\n",
       "      <td>37.748221</td>\n",
       "      <td>2015-09-21 23:03:00</td>\n",
       "    </tr>\n",
       "  </tbody>\n",
       "</table>\n",
       "</div>"
      ],
      "text/plain": [
       "         Category                               Descript  PdDistrict  \\\n",
       "0  OTHER OFFENSES                      TRAFFIC VIOLATION    NORTHERN   \n",
       "1    NON-CRIMINAL               LICENSE PLATE  RECOVERED    NORTHERN   \n",
       "2   LARCENY/THEFT                    GRAND THEFT BICYCLE    NORTHERN   \n",
       "3    PROSTITUTION  LOITERING FOR PURPOSE OF PROSTITUTION  TENDERLOIN   \n",
       "4         ASSAULT            INFLICT INJURY ON COHABITEE     MISSION   \n",
       "\n",
       "       Resolution           X          Y                 UTC  \n",
       "0  ARREST  BOOKED -122.433407  37.778423 2015-09-21 23:36:00  \n",
       "1  ARREST  BOOKED -122.433407  37.778423 2015-09-21 23:36:00  \n",
       "2            NONE -122.432952  37.805052 2015-09-21 23:20:00  \n",
       "3  ARREST  BOOKED -122.408202  37.786885 2015-09-21 23:20:00  \n",
       "4  ARREST  BOOKED -122.419729  37.748221 2015-09-21 23:03:00  "
      ]
     },
     "execution_count": 17,
     "metadata": {},
     "output_type": "execute_result"
    }
   ],
   "source": [
    "df.head()"
   ]
  },
  {
   "cell_type": "code",
   "execution_count": null,
   "metadata": {
    "collapsed": true
   },
   "outputs": [],
   "source": []
  }
 ],
 "metadata": {
  "kernelspec": {
   "display_name": "Python 2",
   "language": "python",
   "name": "python2"
  },
  "language_info": {
   "codemirror_mode": {
    "name": "ipython",
    "version": 2
   },
   "file_extension": ".py",
   "mimetype": "text/x-python",
   "name": "python",
   "nbconvert_exporter": "python",
   "pygments_lexer": "ipython2",
   "version": "2.7.10"
  }
 },
 "nbformat": 4,
 "nbformat_minor": 0
}
